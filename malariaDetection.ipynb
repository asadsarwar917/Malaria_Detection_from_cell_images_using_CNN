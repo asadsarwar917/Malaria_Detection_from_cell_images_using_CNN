{
 "cells": [
  {
   "cell_type": "markdown",
   "metadata": {},
   "source": [
    "Libraries needed"
   ]
  },
  {
   "cell_type": "code",
   "execution_count": 1,
   "metadata": {},
   "outputs": [],
   "source": [
    "from tkinter import * \n",
    "import tkinter\n",
    "from tkinter import Label,Tk\n",
    "from PIL import Image, ImageTk\n",
    "from tkinter import filedialog\n",
    "\n",
    "import tensorflow\n",
    "import numpy as np\n",
    "from keras.preprocessing import image"
   ]
  },
  {
   "cell_type": "markdown",
   "metadata": {},
   "source": [
    "Function that recieves a numpy array of one image file only"
   ]
  },
  {
   "cell_type": "code",
   "execution_count": 2,
   "metadata": {},
   "outputs": [],
   "source": [
    "def malariaDetection(x):\n",
    "    reloaded_model=tensorflow.keras.models.load_model(\"malariaModel.h5\")\n",
    "    x = np.expand_dims(x, axis=0)\n",
    "    images = np.vstack([x])\n",
    "    classes = reloaded_model.predict(images, batch_size=10)\n",
    "    if classes[0]>0:\n",
    "        return \"Uninfected\"\n",
    "    else:\n",
    "        return \"Parasitized\""
   ]
  },
  {
   "cell_type": "markdown",
   "metadata": {},
   "source": [
    "Use this code to load image and convert it to numpy array and call the function\n",
    "\n",
    "Use this code inside a for loop for nultiple images and update path variable on every iteration"
   ]
  },
  {
   "cell_type": "code",
   "execution_count": 3,
   "metadata": {},
   "outputs": [],
   "source": [
    "def detect():\n",
    "    return_data=[]\n",
    "    paths=filedialog.askopenfilenames(filetypes=[(\"Image File\",'.png')])\n",
    "    for path in paths:\n",
    "        photo = PhotoImage(file=path)\n",
    "        label = Label(image=photo)\n",
    "        images = image.load_img(path, target_size=(130,130))    \n",
    "        x = image.img_to_array(images)\n",
    "        return_data.append(malariaDetection(x))\n",
    "        \n",
    "    return return_data"
   ]
  },
  {
   "cell_type": "code",
   "execution_count": 9,
   "metadata": {
    "scrolled": true
   },
   "outputs": [
    {
     "name": "stdout",
     "output_type": "stream",
     "text": [
      "WARNING:tensorflow:11 out of the last 11 calls to <function Model.make_predict_function.<locals>.predict_function at 0x000001AA32A94700> triggered tf.function retracing. Tracing is expensive and the excessive number of tracings could be due to (1) creating @tf.function repeatedly in a loop, (2) passing tensors with different shapes, (3) passing Python objects instead of tensors. For (1), please define your @tf.function outside of the loop. For (2), @tf.function has experimental_relax_shapes=True option that relaxes argument shapes that can avoid unnecessary retracing. For (3), please refer to https://www.tensorflow.org/tutorials/customization/performance#python_or_tensor_args and https://www.tensorflow.org/api_docs/python/tf/function for  more details.\n",
      "WARNING:tensorflow:11 out of the last 11 calls to <function Model.make_predict_function.<locals>.predict_function at 0x000001AA2C045310> triggered tf.function retracing. Tracing is expensive and the excessive number of tracings could be due to (1) creating @tf.function repeatedly in a loop, (2) passing tensors with different shapes, (3) passing Python objects instead of tensors. For (1), please define your @tf.function outside of the loop. For (2), @tf.function has experimental_relax_shapes=True option that relaxes argument shapes that can avoid unnecessary retracing. For (3), please refer to https://www.tensorflow.org/tutorials/customization/performance#python_or_tensor_args and https://www.tensorflow.org/api_docs/python/tf/function for  more details.\n",
      "WARNING:tensorflow:11 out of the last 11 calls to <function Model.make_predict_function.<locals>.predict_function at 0x000001AA2BF4F940> triggered tf.function retracing. Tracing is expensive and the excessive number of tracings could be due to (1) creating @tf.function repeatedly in a loop, (2) passing tensors with different shapes, (3) passing Python objects instead of tensors. For (1), please define your @tf.function outside of the loop. For (2), @tf.function has experimental_relax_shapes=True option that relaxes argument shapes that can avoid unnecessary retracing. For (3), please refer to https://www.tensorflow.org/tutorials/customization/performance#python_or_tensor_args and https://www.tensorflow.org/api_docs/python/tf/function for  more details.\n",
      "WARNING:tensorflow:11 out of the last 11 calls to <function Model.make_predict_function.<locals>.predict_function at 0x000001AA23EA9820> triggered tf.function retracing. Tracing is expensive and the excessive number of tracings could be due to (1) creating @tf.function repeatedly in a loop, (2) passing tensors with different shapes, (3) passing Python objects instead of tensors. For (1), please define your @tf.function outside of the loop. For (2), @tf.function has experimental_relax_shapes=True option that relaxes argument shapes that can avoid unnecessary retracing. For (3), please refer to https://www.tensorflow.org/tutorials/customization/performance#python_or_tensor_args and https://www.tensorflow.org/api_docs/python/tf/function for  more details.\n",
      "WARNING:tensorflow:11 out of the last 11 calls to <function Model.make_predict_function.<locals>.predict_function at 0x000001AA24557CA0> triggered tf.function retracing. Tracing is expensive and the excessive number of tracings could be due to (1) creating @tf.function repeatedly in a loop, (2) passing tensors with different shapes, (3) passing Python objects instead of tensors. For (1), please define your @tf.function outside of the loop. For (2), @tf.function has experimental_relax_shapes=True option that relaxes argument shapes that can avoid unnecessary retracing. For (3), please refer to https://www.tensorflow.org/tutorials/customization/performance#python_or_tensor_args and https://www.tensorflow.org/api_docs/python/tf/function for  more details.\n",
      "WARNING:tensorflow:11 out of the last 11 calls to <function Model.make_predict_function.<locals>.predict_function at 0x000001AA1DFA9E50> triggered tf.function retracing. Tracing is expensive and the excessive number of tracings could be due to (1) creating @tf.function repeatedly in a loop, (2) passing tensors with different shapes, (3) passing Python objects instead of tensors. For (1), please define your @tf.function outside of the loop. For (2), @tf.function has experimental_relax_shapes=True option that relaxes argument shapes that can avoid unnecessary retracing. For (3), please refer to https://www.tensorflow.org/tutorials/customization/performance#python_or_tensor_args and https://www.tensorflow.org/api_docs/python/tf/function for  more details.\n",
      "WARNING:tensorflow:11 out of the last 11 calls to <function Model.make_predict_function.<locals>.predict_function at 0x000001AA24733550> triggered tf.function retracing. Tracing is expensive and the excessive number of tracings could be due to (1) creating @tf.function repeatedly in a loop, (2) passing tensors with different shapes, (3) passing Python objects instead of tensors. For (1), please define your @tf.function outside of the loop. For (2), @tf.function has experimental_relax_shapes=True option that relaxes argument shapes that can avoid unnecessary retracing. For (3), please refer to https://www.tensorflow.org/tutorials/customization/performance#python_or_tensor_args and https://www.tensorflow.org/api_docs/python/tf/function for  more details.\n"
     ]
    }
   ],
   "source": [
    "#Showing result of image +ve or -ve\n",
    "def call_detect(event):\n",
    "    lblwt.place(x=350, y=200)\n",
    "    stores = detect()\n",
    "    uninfacted=0\n",
    "    parasitized=0\n",
    "    for store in stores:\n",
    "        if store==\"Uninfected\":\n",
    "            uninfacted=uninfacted+1\n",
    "        else:        \n",
    "            parasitized=parasitized+1\n",
    "    lbluc=Label(root, text=(\"Uninfacted Cells: \",uninfacted),fg='black', font=(\"Helvetica\", 18))\n",
    "    lblpc=Label(root, text=(\"Parasitized Cells: \",parasitized),fg='black', font=(\"Helvetica\", 18))    \n",
    "    lblMsg.place(x=300, y=250)\n",
    "    lbluc.place(x=300, y=300)\n",
    "    lblpc.place(x=300, y=350)\n",
    "    \n",
    "    \n",
    "    if uninfacted!=parasitized:\n",
    "        lblwt.place_forget()\n",
    "        if uninfacted>parasitized:\n",
    "            lbl=Label(root, text=(\"Uninfacted\",\"\\N{grinning face}\"),fg='black', font=(\"Helvetica\", 50))\n",
    "            lbl.place(x=300, y=420)\n",
    "        else:        \n",
    "            lbl=Label(root, text=(\"Parasitized\",\"\\N{Pensive face}\"),fg='black', font=(\"Helvetica\", 50))\n",
    "            lbl.place(x=300, y=420)\n",
    "    else:\n",
    "        lblwt.place_forget()\n",
    "        lbl=Label(root, text=(\"Equal in Numbers\"),fg='black', font=(\"Helvetica\", 40))\n",
    "        lbl.place(x=300, y=420)\n",
    "        \n",
    "#window configuration\n",
    "root = Tk()\n",
    "root.title(\"Malaria Detection Application\")\n",
    "\n",
    "root.geometry(\"1000x500+10+10\")\n",
    "filename = PhotoImage(file = \"bg.png\")\n",
    "background_label = Label(root, image=filename)\n",
    "background_label.place(x=0, y=0, relwidth=1, relheight=1)\n",
    "#project name label\n",
    "mainTitle=Label(root, text=\"Welcome to Malaria Detection App \", fg='gray', font=(\"Helvetica\", 35))\n",
    "mainTitle.place(x=120, y=10)\n",
    "\n",
    "#about Function where explanation of appplicaition is provided \n",
    "lblA=Label(root, text=\"To predict whether the cell image in Parasitized or Uninfacted follow following steps:\",fg='black', font=(\"Helvetica\", 16))\n",
    "lblStep01=Label(root, text=\"1- Go to Home tab and click on Browse image button. Select the image and done, result will be on your screen. \",fg='black', font=(\"Helvetica\", 16))\n",
    "lblStep02=Label(root, text=\"2- Select the image and done, result will be on your screen. \",fg='black', font=(\"Helvetica\", 16))\n",
    "lblB=Label(root, text=\"This Project is developed by Asad Sarwar(051-18-0003) and Saffar Khan(021-18-0015).\",fg='red',font=(\"Helvetica\", 16))\n",
    "lblC=Label(root, text=\"BSSE-6 Sukkur IBA University\",fg='red', font=(\"Helvetica\", 16))\n",
    "\n",
    "Gen_Button = tkinter.Button(root, text='Browse Image')\n",
    "Gen_Button.bind('<Button-1>', call_detect)\n",
    "Gen_Button.place(x=450,y=100)\n",
    "\n",
    "lblMsg=Label(root, text=\"The Uploaded picture Result is:\", fg='black', font=(\"Helvetica\", 16))\n",
    "lbluc=Label(root, text=(\"Uninfacted Cells: \"),fg='black', font=(\"Helvetica\", 18))\n",
    "lblpc=Label(root, text=(\"Parasitized Cells: \"),fg='black', font=(\"Helvetica\", 18))\n",
    "lblwt=Label(root, text=(\"Please wait! Processing... \"),fg='black', font=(\"Helvetica\", 16))\n",
    "\n",
    "def about():\n",
    "    lblA.place(x=120, y=100)\n",
    "    lblStep01.place(x=120,y=130)\n",
    "    lblStep02.place(x=120,y=160)\n",
    "    lblB.place(x=120, y=190)\n",
    "    lblC.place(x=120, y=220)\n",
    "\n",
    "#Home Function to perform task \n",
    "def Home():\n",
    "    Gen_Button.place(x=450,y=100)\n",
    "    \n",
    "\n",
    "def deleteAbout():\n",
    "    lblA.place_forget()\n",
    "    lblStep01.place_forget()\n",
    "    lblStep02.place_forget()\n",
    "    lblB.place_forget()\n",
    "    lblC.place_forget()\n",
    "    Home()\n",
    "    \n",
    "def deleteHome():\n",
    "    Gen_Button.place_forget()\n",
    "    lblMsg.place_forget()\n",
    "    lbluc.place_forget()\n",
    "    lblpc.place_forget()\n",
    "    about()\n",
    "\n",
    "#Menu bar of window \n",
    "menubar = Menu(root)\n",
    "menubar = Menu(menubar, tearoff=0)\n",
    "menubar.add_command(label=\"Home\", command=deleteAbout)\n",
    "menubar.add_command(label=\"About\", command=deleteHome)\n",
    "\n",
    "root.wm_attributes(\"-alpha\", '0.95')\n",
    "\n",
    "root.config(menu=menubar)\n",
    "root.mainloop()"
   ]
  },
  {
   "cell_type": "code",
   "execution_count": null,
   "metadata": {},
   "outputs": [],
   "source": []
  },
  {
   "cell_type": "markdown",
   "metadata": {},
   "source": []
  }
 ],
 "metadata": {
  "kernelspec": {
   "display_name": "Python 3",
   "language": "python",
   "name": "python3"
  },
  "language_info": {
   "codemirror_mode": {
    "name": "ipython",
    "version": 3
   },
   "file_extension": ".py",
   "mimetype": "text/x-python",
   "name": "python",
   "nbconvert_exporter": "python",
   "pygments_lexer": "ipython3",
   "version": "3.8.3"
  }
 },
 "nbformat": 4,
 "nbformat_minor": 4
}
